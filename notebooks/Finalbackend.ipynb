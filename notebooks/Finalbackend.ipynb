{
 "cells": [
  {
   "cell_type": "markdown",
   "metadata": {},
   "source": [
    "# This file contains a test script that checks the update script Tanzil Wrote"
   ]
  },
  {
   "cell_type": "code",
   "execution_count": 50,
   "metadata": {},
   "outputs": [],
   "source": [
    "import pandas as pd\n",
    "import requests\n",
    "import re\n",
    "from fuzzywuzzy import process"
   ]
  },
  {
   "cell_type": "code",
   "execution_count": 51,
   "metadata": {},
   "outputs": [],
   "source": [
    "ideal_promises = pd.read_excel('../assets/data/Promises.xlsx')"
   ]
  },
  {
   "cell_type": "code",
   "execution_count": 59,
   "metadata": {},
   "outputs": [],
   "source": [
    "url = \"https://docs.google.com/spreadsheets/d/e/2PACX-1vQi5APAZW3CvMw-8LUdCFxdg5CIEjAB-EnnKHe6kzMxQyHDWZbZToW3kLSvpDMcEQZ34o6nOIxbMcwm/pub?output=xlsx\""
   ]
  },
  {
   "cell_type": "code",
   "execution_count": 64,
   "metadata": {},
   "outputs": [],
   "source": [
    "googleFormUpdates = requests.get(url)"
   ]
  },
  {
   "cell_type": "code",
   "execution_count": 66,
   "metadata": {},
   "outputs": [],
   "source": [
    "with open('../assets/data/googleFormUpdates.xlsx', 'wb') as f:\n",
    "    f.write(googleFormUpdates.content)"
   ]
  },
  {
   "cell_type": "code",
   "execution_count": 68,
   "metadata": {},
   "outputs": [],
   "source": [
    "updates = pd.read_excel('../assets/data/googleFormUpdates.xlsx').rename(columns={'Promise ': 'Promise', 'SubPromise ': 'Sub promise'}).dropna(how='all')"
   ]
  },
  {
   "cell_type": "code",
   "execution_count": 71,
   "metadata": {},
   "outputs": [],
   "source": [
    "for col in ['Promise', 'Sub promise']:\n",
    "    ideal_promises[col] = ideal_promises[col].apply(lambda x: x.lower().strip())\n",
    "    updates[col] = updates[col].apply(lambda x: x.lower().strip())"
   ]
  },
  {
   "cell_type": "code",
   "execution_count": 72,
   "metadata": {},
   "outputs": [],
   "source": [
    "correct_subpromises = set(ideal_promises['Sub promise'].unique())\n",
    "correct_promises = set(ideal_promises['Promise'].unique())\n",
    "updates_promises = set(updates['Promise'].unique())"
   ]
  },
  {
   "cell_type": "code",
   "execution_count": 73,
   "metadata": {},
   "outputs": [],
   "source": [
    "errors = updates_promises - correct_promises\n",
    "corrections = {k:process.extract(k, correct_promises, limit=1)[0][0] for k in errors}\n",
    "maps = {k:k for k in updates['Promise'].unique()}\n",
    "maps.update(corrections)\n",
    "updates['Promise'] = updates['Promise'].map(maps)\n",
    "updates['Sub promise'] = updates['Sub promise'].apply(lambda x: x.split('__')[-1].lower().strip())\n",
    "updates[updates['Sub promise'].isin(correct_subpromises)].to_excel('../assets/data/googleFormUpdates.xlsx', index=None)"
   ]
  },
  {
   "cell_type": "code",
   "execution_count": 77,
   "metadata": {},
   "outputs": [],
   "source": [
    "oldupdates = pd.read_excel('../assets/data/old_website_updates.xlsx')"
   ]
  },
  {
   "cell_type": "code",
   "execution_count": 83,
   "metadata": {},
   "outputs": [],
   "source": [
    "combined = pd.concat([updates, oldupdates], sort=False)"
   ]
  },
  {
   "cell_type": "code",
   "execution_count": 84,
   "metadata": {},
   "outputs": [],
   "source": [
    "merged_df = pd.merge(combined, ideal_promises, left_on='Sub promise', right_on = 'Sub promise')"
   ]
  },
  {
   "cell_type": "code",
   "execution_count": 88,
   "metadata": {},
   "outputs": [],
   "source": [
    "merged_df = merged_df.drop(['Department_x', 'Promise_x', 'Outcome_x', 'Sr No'], axis=1).rename(columns={'Promise_y':'Promise', 'Department_y':'Department', 'Outcome_y':'Outcome'})"
   ]
  },
  {
   "cell_type": "code",
   "execution_count": 94,
   "metadata": {},
   "outputs": [],
   "source": [
    "merged_df['Department'] = merged_df['Department'].apply(lambda x: re.sub('\\sDepartment', '', x))"
   ]
  },
  {
   "cell_type": "code",
   "execution_count": 104,
   "metadata": {},
   "outputs": [],
   "source": [
    "merged_df.to_excel('../assets/data/updates.xlsx', index=None)"
   ]
  }
 ],
 "metadata": {
  "kernelspec": {
   "display_name": "Python 3",
   "language": "python",
   "name": "python3"
  },
  "language_info": {
   "codemirror_mode": {
    "name": "ipython",
    "version": 3
   },
   "file_extension": ".py",
   "mimetype": "text/x-python",
   "name": "python",
   "nbconvert_exporter": "python",
   "pygments_lexer": "ipython3",
   "version": "3.7.5"
  }
 },
 "nbformat": 4,
 "nbformat_minor": 2
}
