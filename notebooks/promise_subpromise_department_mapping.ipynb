{
 "cells": [
  {
   "cell_type": "markdown",
   "metadata": {},
   "source": [
    "### This notebook code that maps the Promises from the updates google form to the sheet Roshan Shared"
   ]
  },
  {
   "cell_type": "code",
   "execution_count": 1,
   "metadata": {},
   "outputs": [],
   "source": [
    "import pandas as pd"
   ]
  },
  {
   "cell_type": "code",
   "execution_count": 2,
   "metadata": {},
   "outputs": [],
   "source": [
    "ideal_promises = pd.read_excel('../assets/data/Promises.xlsx')"
   ]
  },
  {
   "cell_type": "code",
   "execution_count": 59,
   "metadata": {},
   "outputs": [],
   "source": [
    "ideal_promises.to_excel('newPromises.xlsx', index=None)"
   ]
  },
  {
   "cell_type": "code",
   "execution_count": 3,
   "metadata": {},
   "outputs": [],
   "source": [
    "ideal_promises.Promise = ideal_promises.Promise.apply(lambda x: x.lower().strip())"
   ]
  },
  {
   "cell_type": "code",
   "execution_count": 25,
   "metadata": {},
   "outputs": [],
   "source": [
    "ideal_promises['Sub promise'] = ideal_promises['Sub promise'].apply(lambda x: x.lower().strip())"
   ]
  },
  {
   "cell_type": "code",
   "execution_count": 26,
   "metadata": {},
   "outputs": [],
   "source": [
    "updates = pd.read_excel('../assets/data/updates.xlsx')"
   ]
  },
  {
   "cell_type": "code",
   "execution_count": 27,
   "metadata": {},
   "outputs": [
    {
     "data": {
      "text/plain": [
       "(235, 11)"
      ]
     },
     "execution_count": 27,
     "metadata": {},
     "output_type": "execute_result"
    }
   ],
   "source": [
    "updates.shape"
   ]
  },
  {
   "cell_type": "code",
   "execution_count": 28,
   "metadata": {},
   "outputs": [],
   "source": [
    "updates.Promise = updates.Promise.apply(lambda x: x.lower().strip())"
   ]
  },
  {
   "cell_type": "code",
   "execution_count": 29,
   "metadata": {},
   "outputs": [
    {
     "data": {
      "text/html": [
       "<div>\n",
       "<style scoped>\n",
       "    .dataframe tbody tr th:only-of-type {\n",
       "        vertical-align: middle;\n",
       "    }\n",
       "\n",
       "    .dataframe tbody tr th {\n",
       "        vertical-align: top;\n",
       "    }\n",
       "\n",
       "    .dataframe thead th {\n",
       "        text-align: right;\n",
       "    }\n",
       "</style>\n",
       "<table border=\"1\" class=\"dataframe\">\n",
       "  <thead>\n",
       "    <tr style=\"text-align: right;\">\n",
       "      <th></th>\n",
       "      <th>Sr No</th>\n",
       "      <th>Promise</th>\n",
       "      <th>Outcome</th>\n",
       "      <th>Department</th>\n",
       "      <th>Sub promise</th>\n",
       "    </tr>\n",
       "  </thead>\n",
       "  <tbody>\n",
       "    <tr>\n",
       "      <th>0</th>\n",
       "      <td>1</td>\n",
       "      <td>jan lokpal bill</td>\n",
       "      <td>Governance</td>\n",
       "      <td>Delhi Assembly</td>\n",
       "      <td>aam aadmi party resolves to legislate the delh...</td>\n",
       "    </tr>\n",
       "    <tr>\n",
       "      <th>1</th>\n",
       "      <td>1</td>\n",
       "      <td>jan lokpal bill</td>\n",
       "      <td>Governance</td>\n",
       "      <td>Anti Corruption Bureau</td>\n",
       "      <td>this will ensure a time-bound investigation in...</td>\n",
       "    </tr>\n",
       "    <tr>\n",
       "      <th>2</th>\n",
       "      <td>1</td>\n",
       "      <td>jan lokpal bill</td>\n",
       "      <td>Governance</td>\n",
       "      <td>Delhi Assembly</td>\n",
       "      <td>the delhi lokpal will have the power to initia...</td>\n",
       "    </tr>\n",
       "    <tr>\n",
       "      <th>3</th>\n",
       "      <td>1</td>\n",
       "      <td>jan lokpal bill</td>\n",
       "      <td>Governance</td>\n",
       "      <td>Delhi Assembly</td>\n",
       "      <td>a citizens’ charter shall be introduced in all...</td>\n",
       "    </tr>\n",
       "    <tr>\n",
       "      <th>4</th>\n",
       "      <td>1</td>\n",
       "      <td>jan lokpal bill</td>\n",
       "      <td>Governance</td>\n",
       "      <td>Finance Department</td>\n",
       "      <td>whistleblowers will be provided protection and...</td>\n",
       "    </tr>\n",
       "  </tbody>\n",
       "</table>\n",
       "</div>"
      ],
      "text/plain": [
       "   Sr No          Promise     Outcome              Department  \\\n",
       "0      1  jan lokpal bill  Governance          Delhi Assembly   \n",
       "1      1  jan lokpal bill  Governance  Anti Corruption Bureau   \n",
       "2      1  jan lokpal bill  Governance          Delhi Assembly   \n",
       "3      1  jan lokpal bill  Governance          Delhi Assembly   \n",
       "4      1  jan lokpal bill  Governance      Finance Department   \n",
       "\n",
       "                                         Sub promise  \n",
       "0  aam aadmi party resolves to legislate the delh...  \n",
       "1  this will ensure a time-bound investigation in...  \n",
       "2  the delhi lokpal will have the power to initia...  \n",
       "3  a citizens’ charter shall be introduced in all...  \n",
       "4  whistleblowers will be provided protection and...  "
      ]
     },
     "execution_count": 29,
     "metadata": {},
     "output_type": "execute_result"
    }
   ],
   "source": [
    "ideal_promises.head()"
   ]
  },
  {
   "cell_type": "code",
   "execution_count": 30,
   "metadata": {},
   "outputs": [],
   "source": [
    "correct_subpromises = ideal_promises['Sub promise'].unique()"
   ]
  },
  {
   "cell_type": "code",
   "execution_count": 31,
   "metadata": {},
   "outputs": [],
   "source": [
    "correct_promises = set([promise.lower() for promise in ideal_promises.Promise.unique()])"
   ]
  },
  {
   "cell_type": "code",
   "execution_count": 32,
   "metadata": {},
   "outputs": [],
   "source": [
    "assert len(correct_promises) == 70"
   ]
  },
  {
   "cell_type": "code",
   "execution_count": 33,
   "metadata": {},
   "outputs": [],
   "source": [
    "updates_promises = set([promise.lower() for promise in updates.Promise.unique()])"
   ]
  },
  {
   "cell_type": "code",
   "execution_count": 34,
   "metadata": {},
   "outputs": [],
   "source": [
    "errors = updates_promises - correct_promises"
   ]
  },
  {
   "cell_type": "code",
   "execution_count": 35,
   "metadata": {},
   "outputs": [],
   "source": [
    "from fuzzywuzzy import process"
   ]
  },
  {
   "cell_type": "code",
   "execution_count": 36,
   "metadata": {},
   "outputs": [],
   "source": [
    "corrections = {k:process.extract(k, correct_promises, limit=1)[0][0] for k in errors}"
   ]
  },
  {
   "cell_type": "code",
   "execution_count": 37,
   "metadata": {},
   "outputs": [
    {
     "data": {
      "text/plain": [
       "{'delhi to be startup hub': 'delhi to be start up hub',\n",
       " 'fair arrangement for auto drivers': 'fair arrangement for autodrivers',\n",
       " 'large scale expansion inbus service': 'large scale expansion in bus services',\n",
       " 'higher education gurantee scheme': 'higher education guarantee scheme',\n",
       " 'just and fair policy for e rickshaws': 'just and fair policy for e-rickshaws',\n",
       " 'increased spending on education and healthcare': 'increase spending on education & healthcare',\n",
       " 'five hundred new government schools': 'ramp up government schools to provide quality education',\n",
       " 'fair and transparent water pricing': 'fair transparent water pricing',\n",
       " 'justice for the victims of 1984': 'justice for victims of anti-sikh 1984 carnage',\n",
       " 'water from munak canaal': 'water from munak canal',\n",
       " 'promote rainwater harvesting': 'promote rain water harvesting',\n",
       " 'twenty new degree colleges': '20 new degree colleges',\n",
       " 'water as a right': 'water as right',\n",
       " 'crackdown on water mafia': 'crack down on water mafia',\n",
       " 'contractual posts to be regularized': 'contractual posts to be regularised',\n",
       " 'cctvs in public spaces and buses': \"cctv's in public spaces & buses\",\n",
       " 'delhi to be made solar city': 'delhi to be made a solar city',\n",
       " 'delhi janlokpal bill:': 'delhi to be made a trade and retail hub',\n",
       " 'build 2,00,000 public toilets': 'build 2 lakh public toilets',\n",
       " 'transparency in schools admission': 'tranparency in school admissions',\n",
       " 'wifi delhi': 'wi-fi delhi'}"
      ]
     },
     "execution_count": 37,
     "metadata": {},
     "output_type": "execute_result"
    }
   ],
   "source": [
    "corrections"
   ]
  },
  {
   "cell_type": "code",
   "execution_count": 38,
   "metadata": {},
   "outputs": [],
   "source": [
    "maps = {k:k for k in updates.Promise.unique()}\n",
    "maps.update(corrections)"
   ]
  },
  {
   "cell_type": "code",
   "execution_count": 39,
   "metadata": {},
   "outputs": [],
   "source": [
    "updates['Promise'] = updates['Promise'].map(maps)"
   ]
  },
  {
   "cell_type": "code",
   "execution_count": 40,
   "metadata": {},
   "outputs": [],
   "source": [
    "updates['SubPromise'] = updates['SubPromise'].apply(lambda x: x.split('__')[-1].lower().strip())"
   ]
  },
  {
   "cell_type": "code",
   "execution_count": 41,
   "metadata": {},
   "outputs": [
    {
     "data": {
      "text/html": [
       "<div>\n",
       "<style scoped>\n",
       "    .dataframe tbody tr th:only-of-type {\n",
       "        vertical-align: middle;\n",
       "    }\n",
       "\n",
       "    .dataframe tbody tr th {\n",
       "        vertical-align: top;\n",
       "    }\n",
       "\n",
       "    .dataframe thead th {\n",
       "        text-align: right;\n",
       "    }\n",
       "</style>\n",
       "<table border=\"1\" class=\"dataframe\">\n",
       "  <thead>\n",
       "    <tr style=\"text-align: right;\">\n",
       "      <th></th>\n",
       "      <th>Timestamp</th>\n",
       "      <th>Promise</th>\n",
       "      <th>SubPromise</th>\n",
       "      <th>Date of Update</th>\n",
       "      <th>Status</th>\n",
       "      <th>Description</th>\n",
       "      <th>Title</th>\n",
       "      <th>Proof Documents/Images</th>\n",
       "      <th>Proof URL</th>\n",
       "      <th>Email Address</th>\n",
       "      <th>Approved</th>\n",
       "    </tr>\n",
       "  </thead>\n",
       "  <tbody>\n",
       "    <tr>\n",
       "      <th>0</th>\n",
       "      <td>2020-02-03 18:38:44.301000</td>\n",
       "      <td>delhi to be made a solar city</td>\n",
       "      <td>we are committed to ensuring that 20 percent o...</td>\n",
       "      <td>2018-08-05</td>\n",
       "      <td>In Progress</td>\n",
       "      <td>BRPL aims to bring the benefit of Rooftop Sola...</td>\n",
       "      <td>Solarize Dwarka launched in BSES Rajdhani regi...</td>\n",
       "      <td>https://drive.google.com/open?id=1mhcUrdxLr3LA...</td>\n",
       "      <td>http://solarbses.com/</td>\n",
       "      <td>NaN</td>\n",
       "      <td>Yes</td>\n",
       "    </tr>\n",
       "    <tr>\n",
       "      <th>1</th>\n",
       "      <td>2020-02-04 15:33:03.322000</td>\n",
       "      <td>20 new degree colleges</td>\n",
       "      <td>further we will double the existing seat capac...</td>\n",
       "      <td>2019-08-24</td>\n",
       "      <td>In Progress</td>\n",
       "      <td>Building of new campuses for Ambedkar universi...</td>\n",
       "      <td>Ambedkar University New Campuses</td>\n",
       "      <td>https://drive.google.com/open?id=1RqFvgsnm4wYo...</td>\n",
       "      <td>https://www.thehindu.com/news/cities/Delhi/aud...</td>\n",
       "      <td>NaN</td>\n",
       "      <td>Yes</td>\n",
       "    </tr>\n",
       "    <tr>\n",
       "      <th>2</th>\n",
       "      <td>2020-02-04 16:34:14.222000</td>\n",
       "      <td>20 new degree colleges</td>\n",
       "      <td>further we will double the existing seat capac...</td>\n",
       "      <td>2017-08-18</td>\n",
       "      <td>In Progress</td>\n",
       "      <td>New University Campus for DTU opened up in Viv...</td>\n",
       "      <td>East Campus of DTU</td>\n",
       "      <td>https://drive.google.com/open?id=1xcXa5znsMEjO...</td>\n",
       "      <td>https://www.hindustantimes.com/delhi-news/east...</td>\n",
       "      <td>adityapaul.aap@gmail.com</td>\n",
       "      <td>Yes</td>\n",
       "    </tr>\n",
       "    <tr>\n",
       "      <th>3</th>\n",
       "      <td>2020-02-04 16:53:02.346000</td>\n",
       "      <td>ramp up government schools to provide quality ...</td>\n",
       "      <td>aap will build 500 new schools with a special ...</td>\n",
       "      <td>2020-01-09</td>\n",
       "      <td>Done</td>\n",
       "      <td>The AAP govt opened 20,000 classrooms in Delhi...</td>\n",
       "      <td>AAP builds 20,000 new classrooms</td>\n",
       "      <td>https://drive.google.com/open?id=1My2P9B7qDRNG...</td>\n",
       "      <td>https://www.hindustantimes.com/education/aap-g...</td>\n",
       "      <td>adityapaul.aap@gmail.com</td>\n",
       "      <td>Yes</td>\n",
       "    </tr>\n",
       "    <tr>\n",
       "      <th>4</th>\n",
       "      <td>2020-02-04 17:14:40.167000</td>\n",
       "      <td>ramp up government schools to provide quality ...</td>\n",
       "      <td>aap will build 500 new schools with a special ...</td>\n",
       "      <td>2020-04-08</td>\n",
       "      <td>Done</td>\n",
       "      <td>Details of Swimming pools in two school situat...</td>\n",
       "      <td>Delhi Govt Schools in West Vinod Nagar &amp; Mayur...</td>\n",
       "      <td>https://drive.google.com/open?id=1wp2zNWzsOGSi...</td>\n",
       "      <td>https://timesofindia.indiatimes.com/city/delhi...</td>\n",
       "      <td>adityapaul.aap@gmail.com</td>\n",
       "      <td>Yes</td>\n",
       "    </tr>\n",
       "  </tbody>\n",
       "</table>\n",
       "</div>"
      ],
      "text/plain": [
       "                    Timestamp  \\\n",
       "0  2020-02-03 18:38:44.301000   \n",
       "1  2020-02-04 15:33:03.322000   \n",
       "2  2020-02-04 16:34:14.222000   \n",
       "3  2020-02-04 16:53:02.346000   \n",
       "4  2020-02-04 17:14:40.167000   \n",
       "\n",
       "                                             Promise  \\\n",
       "0                      delhi to be made a solar city   \n",
       "1                             20 new degree colleges   \n",
       "2                             20 new degree colleges   \n",
       "3  ramp up government schools to provide quality ...   \n",
       "4  ramp up government schools to provide quality ...   \n",
       "\n",
       "                                          SubPromise Date of Update  \\\n",
       "0  we are committed to ensuring that 20 percent o...     2018-08-05   \n",
       "1  further we will double the existing seat capac...     2019-08-24   \n",
       "2  further we will double the existing seat capac...     2017-08-18   \n",
       "3  aap will build 500 new schools with a special ...     2020-01-09   \n",
       "4  aap will build 500 new schools with a special ...     2020-04-08   \n",
       "\n",
       "        Status                                        Description  \\\n",
       "0  In Progress  BRPL aims to bring the benefit of Rooftop Sola...   \n",
       "1  In Progress  Building of new campuses for Ambedkar universi...   \n",
       "2  In Progress  New University Campus for DTU opened up in Viv...   \n",
       "3         Done  The AAP govt opened 20,000 classrooms in Delhi...   \n",
       "4         Done  Details of Swimming pools in two school situat...   \n",
       "\n",
       "                                               Title  \\\n",
       "0  Solarize Dwarka launched in BSES Rajdhani regi...   \n",
       "1                   Ambedkar University New Campuses   \n",
       "2                                 East Campus of DTU   \n",
       "3                   AAP builds 20,000 new classrooms   \n",
       "4  Delhi Govt Schools in West Vinod Nagar & Mayur...   \n",
       "\n",
       "                              Proof Documents/Images  \\\n",
       "0  https://drive.google.com/open?id=1mhcUrdxLr3LA...   \n",
       "1  https://drive.google.com/open?id=1RqFvgsnm4wYo...   \n",
       "2  https://drive.google.com/open?id=1xcXa5znsMEjO...   \n",
       "3  https://drive.google.com/open?id=1My2P9B7qDRNG...   \n",
       "4  https://drive.google.com/open?id=1wp2zNWzsOGSi...   \n",
       "\n",
       "                                           Proof URL  \\\n",
       "0                              http://solarbses.com/   \n",
       "1  https://www.thehindu.com/news/cities/Delhi/aud...   \n",
       "2  https://www.hindustantimes.com/delhi-news/east...   \n",
       "3  https://www.hindustantimes.com/education/aap-g...   \n",
       "4  https://timesofindia.indiatimes.com/city/delhi...   \n",
       "\n",
       "              Email Address Approved  \n",
       "0                       NaN      Yes  \n",
       "1                       NaN      Yes  \n",
       "2  adityapaul.aap@gmail.com      Yes  \n",
       "3  adityapaul.aap@gmail.com      Yes  \n",
       "4  adityapaul.aap@gmail.com      Yes  "
      ]
     },
     "execution_count": 41,
     "metadata": {},
     "output_type": "execute_result"
    }
   ],
   "source": [
    "updates.head()"
   ]
  },
  {
   "cell_type": "code",
   "execution_count": 42,
   "metadata": {},
   "outputs": [],
   "source": [
    "subpromise_errors = set(updates['SubPromise'].unique()) - set(correct_subpromises)"
   ]
  },
  {
   "cell_type": "code",
   "execution_count": 46,
   "metadata": {},
   "outputs": [],
   "source": [
    "corrections = {k:process.extract(k, correct_subpromises, limit=2) for k in subpromise_errors}"
   ]
  },
  {
   "cell_type": "code",
   "execution_count": 51,
   "metadata": {},
   "outputs": [
    {
     "data": {
      "text/plain": [
       "21"
      ]
     },
     "execution_count": 51,
     "metadata": {},
     "output_type": "execute_result"
    }
   ],
   "source": [
    "len(subpromise_errors)"
   ]
  },
  {
   "cell_type": "code",
   "execution_count": 56,
   "metadata": {},
   "outputs": [],
   "source": [
    "updates[updates['SubPromise'].isin(subpromise_errors)].to_excel('soumya_corrections.xlsx', index=None)"
   ]
  },
  {
   "cell_type": "code",
   "execution_count": 61,
   "metadata": {},
   "outputs": [],
   "source": [
    "updates.to_excel('newupdates.xlsx', index=None)"
   ]
  },
  {
   "cell_type": "code",
   "execution_count": null,
   "metadata": {},
   "outputs": [],
   "source": []
  }
 ],
 "metadata": {
  "kernelspec": {
   "display_name": "Python 3",
   "language": "python",
   "name": "python3"
  },
  "language_info": {
   "codemirror_mode": {
    "name": "ipython",
    "version": 3
   },
   "file_extension": ".py",
   "mimetype": "text/x-python",
   "name": "python",
   "nbconvert_exporter": "python",
   "pygments_lexer": "ipython3",
   "version": "3.7.5"
  }
 },
 "nbformat": 4,
 "nbformat_minor": 2
}
