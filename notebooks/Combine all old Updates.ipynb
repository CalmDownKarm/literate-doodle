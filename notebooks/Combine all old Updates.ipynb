{
 "cells": [
  {
   "cell_type": "code",
   "execution_count": 1,
   "metadata": {},
   "outputs": [],
   "source": [
    "import pandas as pd"
   ]
  },
  {
   "cell_type": "code",
   "execution_count": 4,
   "metadata": {},
   "outputs": [
    {
     "name": "stdout",
     "output_type": "stream",
     "text": [
      "'Anti Corruption Bureau.xlsx'\r\n",
      "'Art, Culture and Languages Department.xlsx'\r\n",
      "'Delhi Assembly.xlsx'\r\n",
      "'Delhi Jal Board.xlsx'\r\n",
      " \u001b[0m\u001b[01;31mdrive-download-20200218T120528Z-001.zip\u001b[0m\r\n",
      " DUSIB.xlsx\r\n",
      "'Education Department.xlsx'\r\n",
      "'Employment Department.xlsx'\r\n",
      "'Environment Department.xlsx'\r\n",
      "'Finance Department.xlsx'\r\n",
      "'Food and Civil Supplies Department.xlsx'\r\n",
      "'Health Department.xlsx'\r\n",
      "'Industries Department.xlsx'\r\n",
      "'Irrigation and Flood Control Department.xlsx'\r\n",
      "'IT Department.xlsx'\r\n",
      "'Labour Department.xlsx'\r\n",
      "'Law Department.xlsx'\r\n",
      " MCD.xlsx\r\n",
      "'Power Department.xlsx'\r\n",
      "'Public Works Department.xlsx'\r\n",
      "'Revenue Department.xlsx'\r\n",
      "'Rural Development Board.xlsx'\r\n",
      "'Services Department.xlsx'\r\n",
      "'Social Welfare Department.xlsx'\r\n",
      "'Transport Department.xlsx'\r\n",
      "'Urban Development Department.xlsx'\r\n"
     ]
    }
   ],
   "source": [
    "ls ../assets/data/old_updates/"
   ]
  },
  {
   "cell_type": "code",
   "execution_count": 5,
   "metadata": {},
   "outputs": [],
   "source": [
    "from pathlib import Path"
   ]
  },
  {
   "cell_type": "code",
   "execution_count": 6,
   "metadata": {},
   "outputs": [],
   "source": [
    "path = Path('../assets/data/old_updates/')"
   ]
  },
  {
   "cell_type": "code",
   "execution_count": 10,
   "metadata": {},
   "outputs": [
    {
     "name": "stderr",
     "output_type": "stream",
     "text": [
      "/home/karmanyaaggarwal/miniconda3/envs/delhigov/lib/python3.7/site-packages/ipykernel_launcher.py:1: FutureWarning: Sorting because non-concatenation axis is not aligned. A future version\n",
      "of pandas will change to not sort by default.\n",
      "\n",
      "To accept the future behavior, pass 'sort=False'.\n",
      "\n",
      "To retain the current behavior and silence the warning, pass 'sort=True'.\n",
      "\n",
      "  \"\"\"Entry point for launching an IPython kernel.\n"
     ]
    }
   ],
   "source": [
    "all_old = pd.concat([pd.read_excel(file) for file in path.glob('*.xlsx')])"
   ]
  },
  {
   "cell_type": "code",
   "execution_count": 20,
   "metadata": {},
   "outputs": [
    {
     "data": {
      "text/html": [
       "<div>\n",
       "<style scoped>\n",
       "    .dataframe tbody tr th:only-of-type {\n",
       "        vertical-align: middle;\n",
       "    }\n",
       "\n",
       "    .dataframe tbody tr th {\n",
       "        vertical-align: top;\n",
       "    }\n",
       "\n",
       "    .dataframe thead th {\n",
       "        text-align: right;\n",
       "    }\n",
       "</style>\n",
       "<table border=\"1\" class=\"dataframe\">\n",
       "  <thead>\n",
       "    <tr style=\"text-align: right;\">\n",
       "      <th></th>\n",
       "      <th>Department</th>\n",
       "      <th>Outcome</th>\n",
       "      <th>Promise</th>\n",
       "      <th>Sub promise</th>\n",
       "      <th>Unnamed: 0</th>\n",
       "      <th>created_at</th>\n",
       "      <th>description</th>\n",
       "      <th>event_occured</th>\n",
       "      <th>id</th>\n",
       "      <th>official</th>\n",
       "      <th>project_id</th>\n",
       "      <th>status</th>\n",
       "      <th>title</th>\n",
       "      <th>updated_at</th>\n",
       "      <th>url</th>\n",
       "    </tr>\n",
       "  </thead>\n",
       "  <tbody>\n",
       "    <tr>\n",
       "      <th>0</th>\n",
       "      <td>Delhi Assembly</td>\n",
       "      <td>Governance</td>\n",
       "      <td>Full Statehood for Delhi</td>\n",
       "      <td>Acting within the constitutional framework our...</td>\n",
       "      <td>NaN</td>\n",
       "      <td>2016-02-10 09:32:40.208</td>\n",
       "      <td>Stepping up efforts to seek full statehood for...</td>\n",
       "      <td>2015-07-07 09:29:00</td>\n",
       "      <td>2</td>\n",
       "      <td>1</td>\n",
       "      <td>3</td>\n",
       "      <td>Started</td>\n",
       "      <td>Delhi Government pushes for referendum on full...</td>\n",
       "      <td>2016-02-10 09:32:40.208</td>\n",
       "      <td>http://indianexpress.com/article/cities/delhi/...</td>\n",
       "    </tr>\n",
       "    <tr>\n",
       "      <th>1</th>\n",
       "      <td>Delhi Assembly</td>\n",
       "      <td>Governance</td>\n",
       "      <td>Full Statehood for Delhi</td>\n",
       "      <td>This will ensure that institutions such as the...</td>\n",
       "      <td>NaN</td>\n",
       "      <td>2016-02-10 09:35:57.384</td>\n",
       "      <td>The Delhi Government has also exposed the DDA ...</td>\n",
       "      <td>2016-05-26 09:32:00</td>\n",
       "      <td>3</td>\n",
       "      <td>1</td>\n",
       "      <td>3</td>\n",
       "      <td>Started</td>\n",
       "      <td>Delhi MLAs expose MCD and DDA corruption</td>\n",
       "      <td>2016-03-22 06:19:12.615</td>\n",
       "      <td>http://delhiassembly.nic.in/Proceedings/SixthA...</td>\n",
       "    </tr>\n",
       "    <tr>\n",
       "      <th>2</th>\n",
       "      <td>Delhi Assembly</td>\n",
       "      <td>Governance</td>\n",
       "      <td>Full Statehood for Delhi</td>\n",
       "      <td>This way land will be made available for the c...</td>\n",
       "      <td>NaN</td>\n",
       "      <td>2016-05-24 12:57:16.128</td>\n",
       "      <td>All the political parties i.e. Bharatiya Janat...</td>\n",
       "      <td>2016-05-24 12:56:00</td>\n",
       "      <td>147</td>\n",
       "      <td>1</td>\n",
       "      <td>3</td>\n",
       "      <td>In Progress</td>\n",
       "      <td>Delhi Government circulates draft State of Del...</td>\n",
       "      <td>2016-05-24 12:57:16.128</td>\n",
       "      <td>http://www.delhi.gov.in/wps/wcm/connect/doit_s...</td>\n",
       "    </tr>\n",
       "    <tr>\n",
       "      <th>3</th>\n",
       "      <td>Delhi Assembly</td>\n",
       "      <td>Social Welfare</td>\n",
       "      <td>Respecting Our Ex-Servicemen</td>\n",
       "      <td>Delhi is home to a large number of ex-servicem...</td>\n",
       "      <td>NaN</td>\n",
       "      <td>2017-02-09 19:27:45.206</td>\n",
       "      <td>Hours after reports about the suicide of forme...</td>\n",
       "      <td>2016-11-02 19:26:00</td>\n",
       "      <td>218</td>\n",
       "      <td>1</td>\n",
       "      <td>64</td>\n",
       "      <td>In Progress</td>\n",
       "      <td>Delhi CM stands by One Rank One Pension</td>\n",
       "      <td>2017-02-09 19:27:45.206</td>\n",
       "      <td>http://www.firstpost.com/politics/orop-suicide...</td>\n",
       "    </tr>\n",
       "    <tr>\n",
       "      <th>4</th>\n",
       "      <td>Delhi Assembly</td>\n",
       "      <td>Social Welfare</td>\n",
       "      <td>Respecting Our Ex-Servicemen</td>\n",
       "      <td>Delhi is home to a large number of ex-servicem...</td>\n",
       "      <td>NaN</td>\n",
       "      <td>2017-02-09 19:24:24.388</td>\n",
       "      <td>CHIEF MINISTER SHRI ARVIND KEJRIWAL FELICITATE...</td>\n",
       "      <td>2016-10-02 19:23:00</td>\n",
       "      <td>216</td>\n",
       "      <td>1</td>\n",
       "      <td>64</td>\n",
       "      <td>In Progress</td>\n",
       "      <td>NaN</td>\n",
       "      <td>2017-02-09 19:24:24.388</td>\n",
       "      <td>https://indianpoliticsandpolicy.wordpress.com/...</td>\n",
       "    </tr>\n",
       "  </tbody>\n",
       "</table>\n",
       "</div>"
      ],
      "text/plain": [
       "       Department         Outcome                       Promise  \\\n",
       "0  Delhi Assembly      Governance      Full Statehood for Delhi   \n",
       "1  Delhi Assembly      Governance      Full Statehood for Delhi   \n",
       "2  Delhi Assembly      Governance      Full Statehood for Delhi   \n",
       "3  Delhi Assembly  Social Welfare  Respecting Our Ex-Servicemen   \n",
       "4  Delhi Assembly  Social Welfare  Respecting Our Ex-Servicemen   \n",
       "\n",
       "                                         Sub promise  Unnamed: 0  \\\n",
       "0  Acting within the constitutional framework our...         NaN   \n",
       "1  This will ensure that institutions such as the...         NaN   \n",
       "2  This way land will be made available for the c...         NaN   \n",
       "3  Delhi is home to a large number of ex-servicem...         NaN   \n",
       "4  Delhi is home to a large number of ex-servicem...         NaN   \n",
       "\n",
       "               created_at                                        description  \\\n",
       "0 2016-02-10 09:32:40.208  Stepping up efforts to seek full statehood for...   \n",
       "1 2016-02-10 09:35:57.384  The Delhi Government has also exposed the DDA ...   \n",
       "2 2016-05-24 12:57:16.128  All the political parties i.e. Bharatiya Janat...   \n",
       "3 2017-02-09 19:27:45.206  Hours after reports about the suicide of forme...   \n",
       "4 2017-02-09 19:24:24.388  CHIEF MINISTER SHRI ARVIND KEJRIWAL FELICITATE...   \n",
       "\n",
       "        event_occured   id  official  project_id       status  \\\n",
       "0 2015-07-07 09:29:00    2         1           3      Started   \n",
       "1 2016-05-26 09:32:00    3         1           3      Started   \n",
       "2 2016-05-24 12:56:00  147         1           3  In Progress   \n",
       "3 2016-11-02 19:26:00  218         1          64  In Progress   \n",
       "4 2016-10-02 19:23:00  216         1          64  In Progress   \n",
       "\n",
       "                                               title              updated_at  \\\n",
       "0  Delhi Government pushes for referendum on full... 2016-02-10 09:32:40.208   \n",
       "1           Delhi MLAs expose MCD and DDA corruption 2016-03-22 06:19:12.615   \n",
       "2  Delhi Government circulates draft State of Del... 2016-05-24 12:57:16.128   \n",
       "3            Delhi CM stands by One Rank One Pension 2017-02-09 19:27:45.206   \n",
       "4                                                NaN 2017-02-09 19:24:24.388   \n",
       "\n",
       "                                                 url  \n",
       "0  http://indianexpress.com/article/cities/delhi/...  \n",
       "1  http://delhiassembly.nic.in/Proceedings/SixthA...  \n",
       "2  http://www.delhi.gov.in/wps/wcm/connect/doit_s...  \n",
       "3  http://www.firstpost.com/politics/orop-suicide...  \n",
       "4  https://indianpoliticsandpolicy.wordpress.com/...  "
      ]
     },
     "execution_count": 20,
     "metadata": {},
     "output_type": "execute_result"
    }
   ],
   "source": [
    "all_old.head()"
   ]
  },
  {
   "cell_type": "code",
   "execution_count": 21,
   "metadata": {},
   "outputs": [],
   "source": [
    "old_departments = set(all_old.Department.unique())"
   ]
  },
  {
   "cell_type": "code",
   "execution_count": 17,
   "metadata": {},
   "outputs": [],
   "source": [
    "old_outcomes = set(all_old.Outcome.unique())"
   ]
  },
  {
   "cell_type": "code",
   "execution_count": 13,
   "metadata": {},
   "outputs": [],
   "source": [
    "roshan = pd.read_excel('../assets/data/Promise_subPromise_Roshan_exploded.xlsx')"
   ]
  },
  {
   "cell_type": "code",
   "execution_count": 16,
   "metadata": {},
   "outputs": [],
   "source": [
    "total_outcomes = set(roshan.Outcome.unique())"
   ]
  },
  {
   "cell_type": "code",
   "execution_count": 18,
   "metadata": {},
   "outputs": [
    {
     "data": {
      "text/plain": [
       "set()"
      ]
     },
     "execution_count": 18,
     "metadata": {},
     "output_type": "execute_result"
    }
   ],
   "source": [
    "old_outcomes - total_outcomes"
   ]
  },
  {
   "cell_type": "code",
   "execution_count": 19,
   "metadata": {},
   "outputs": [
    {
     "data": {
      "text/plain": [
       "set()"
      ]
     },
     "execution_count": 19,
     "metadata": {},
     "output_type": "execute_result"
    }
   ],
   "source": [
    "total_outcomes - old_outcomes"
   ]
  },
  {
   "cell_type": "code",
   "execution_count": 22,
   "metadata": {},
   "outputs": [],
   "source": [
    "total_departments = set(roshan.Department.unique())"
   ]
  },
  {
   "cell_type": "code",
   "execution_count": 23,
   "metadata": {},
   "outputs": [
    {
     "data": {
      "text/plain": [
       "{'ACL Department', 'Urban Development'}"
      ]
     },
     "execution_count": 23,
     "metadata": {},
     "output_type": "execute_result"
    }
   ],
   "source": [
    "old_departments - total_departments"
   ]
  },
  {
   "cell_type": "code",
   "execution_count": 24,
   "metadata": {},
   "outputs": [
    {
     "data": {
      "text/plain": [
       "set()"
      ]
     },
     "execution_count": 24,
     "metadata": {},
     "output_type": "execute_result"
    }
   ],
   "source": [
    "total_departments - old_departments"
   ]
  },
  {
   "cell_type": "code",
   "execution_count": 25,
   "metadata": {},
   "outputs": [
    {
     "data": {
      "text/plain": [
       "{'Anti Corruption Bureau',\n",
       " 'Art, Culture and Languages Department',\n",
       " 'DUSIB',\n",
       " 'Delhi Assembly',\n",
       " 'Delhi Jal Board',\n",
       " 'Education Department',\n",
       " 'Employment Department',\n",
       " 'Environment Department',\n",
       " 'Finance Department',\n",
       " 'Food and Civil Supplies Department',\n",
       " 'Health Department',\n",
       " 'IT Department',\n",
       " 'Industries Department',\n",
       " 'Irrigation and Flood Control Department',\n",
       " 'Labour Department',\n",
       " 'Law Department',\n",
       " 'MCD',\n",
       " 'Power Department',\n",
       " 'Public Works Department',\n",
       " 'Revenue Department',\n",
       " 'Rural Development Board',\n",
       " 'Services Department',\n",
       " 'Social Welfare Department',\n",
       " 'Transport Department',\n",
       " 'Urban Development Department'}"
      ]
     },
     "execution_count": 25,
     "metadata": {},
     "output_type": "execute_result"
    }
   ],
   "source": [
    "total_departments"
   ]
  },
  {
   "cell_type": "code",
   "execution_count": 29,
   "metadata": {},
   "outputs": [],
   "source": [
    "maps = {k:k for k in old_departments}"
   ]
  },
  {
   "cell_type": "code",
   "execution_count": 30,
   "metadata": {},
   "outputs": [
    {
     "data": {
      "text/plain": [
       "{'DUSIB': 'DUSIB',\n",
       " 'MCD': 'MCD',\n",
       " 'Power Department': 'Power Department',\n",
       " 'Anti Corruption Bureau': 'Anti Corruption Bureau',\n",
       " 'Labour Department': 'Labour Department',\n",
       " 'Finance Department': 'Finance Department',\n",
       " 'Law Department': 'Law Department',\n",
       " 'Employment Department': 'Employment Department',\n",
       " 'Urban Development': 'Urban Development',\n",
       " 'Health Department': 'Health Department',\n",
       " 'Education Department': 'Education Department',\n",
       " 'IT Department': 'IT Department',\n",
       " 'Urban Development Department': 'Urban Development Department',\n",
       " 'Services Department': 'Services Department',\n",
       " 'Rural Development Board': 'Rural Development Board',\n",
       " 'Transport Department': 'Transport Department',\n",
       " 'Irrigation and Flood Control Department': 'Irrigation and Flood Control Department',\n",
       " 'Industries Department': 'Industries Department',\n",
       " 'Public Works Department': 'Public Works Department',\n",
       " 'Delhi Assembly': 'Delhi Assembly',\n",
       " 'Delhi Jal Board': 'Delhi Jal Board',\n",
       " 'Art, Culture and Languages Department': 'Art, Culture and Languages Department',\n",
       " 'Revenue Department': 'Revenue Department',\n",
       " 'Environment Department': 'Environment Department',\n",
       " 'ACL Department': 'ACL Department',\n",
       " 'Social Welfare Department': 'Social Welfare Department',\n",
       " 'Food and Civil Supplies Department': 'Food and Civil Supplies Department'}"
      ]
     },
     "execution_count": 30,
     "metadata": {},
     "output_type": "execute_result"
    }
   ],
   "source": [
    "maps"
   ]
  },
  {
   "cell_type": "code",
   "execution_count": 31,
   "metadata": {},
   "outputs": [],
   "source": [
    "maps.update({\n",
    "    'ACL Department' : 'Art, Culture and Languages Department',\n",
    "    'Urban Development': 'Urban Development Department'\n",
    "})"
   ]
  },
  {
   "cell_type": "code",
   "execution_count": 32,
   "metadata": {},
   "outputs": [
    {
     "data": {
      "text/plain": [
       "{'DUSIB': 'DUSIB',\n",
       " 'MCD': 'MCD',\n",
       " 'Power Department': 'Power Department',\n",
       " 'Anti Corruption Bureau': 'Anti Corruption Bureau',\n",
       " 'Labour Department': 'Labour Department',\n",
       " 'Finance Department': 'Finance Department',\n",
       " 'Law Department': 'Law Department',\n",
       " 'Employment Department': 'Employment Department',\n",
       " 'Urban Development': 'Urban Development Department',\n",
       " 'Health Department': 'Health Department',\n",
       " 'Education Department': 'Education Department',\n",
       " 'IT Department': 'IT Department',\n",
       " 'Urban Development Department': 'Urban Development Department',\n",
       " 'Services Department': 'Services Department',\n",
       " 'Rural Development Board': 'Rural Development Board',\n",
       " 'Transport Department': 'Transport Department',\n",
       " 'Irrigation and Flood Control Department': 'Irrigation and Flood Control Department',\n",
       " 'Industries Department': 'Industries Department',\n",
       " 'Public Works Department': 'Public Works Department',\n",
       " 'Delhi Assembly': 'Delhi Assembly',\n",
       " 'Delhi Jal Board': 'Delhi Jal Board',\n",
       " 'Art, Culture and Languages Department': 'Art, Culture and Languages Department',\n",
       " 'Revenue Department': 'Revenue Department',\n",
       " 'Environment Department': 'Environment Department',\n",
       " 'ACL Department': 'Art, Culture and Languages Department',\n",
       " 'Social Welfare Department': 'Social Welfare Department',\n",
       " 'Food and Civil Supplies Department': 'Food and Civil Supplies Department'}"
      ]
     },
     "execution_count": 32,
     "metadata": {},
     "output_type": "execute_result"
    }
   ],
   "source": [
    "maps"
   ]
  },
  {
   "cell_type": "code",
   "execution_count": 33,
   "metadata": {},
   "outputs": [],
   "source": [
    "all_old['Department'] = all_old['Department'].map(maps)"
   ]
  },
  {
   "cell_type": "code",
   "execution_count": 35,
   "metadata": {},
   "outputs": [],
   "source": [
    "old_promises = set(all_old['Promise'].unique())"
   ]
  },
  {
   "cell_type": "code",
   "execution_count": 36,
   "metadata": {},
   "outputs": [],
   "source": [
    "roshan_promises = set(roshan.Promise.unique())"
   ]
  },
  {
   "cell_type": "code",
   "execution_count": 38,
   "metadata": {},
   "outputs": [
    {
     "data": {
      "text/plain": [
       "set()"
      ]
     },
     "execution_count": 38,
     "metadata": {},
     "output_type": "execute_result"
    }
   ],
   "source": [
    "old_promises - roshan_promises\n"
   ]
  },
  {
   "cell_type": "code",
   "execution_count": 39,
   "metadata": {},
   "outputs": [
    {
     "data": {
      "text/plain": [
       "{'Introduce competition amongst discoms',\n",
       " 'Speedy Justice Through 47 Fast track Courts'}"
      ]
     },
     "execution_count": 39,
     "metadata": {},
     "output_type": "execute_result"
    }
   ],
   "source": [
    "roshan_promises - old_promises"
   ]
  },
  {
   "cell_type": "code",
   "execution_count": 40,
   "metadata": {},
   "outputs": [],
   "source": [
    "old_sub = set(all_old['Sub promise'].unique())"
   ]
  },
  {
   "cell_type": "code",
   "execution_count": 41,
   "metadata": {},
   "outputs": [],
   "source": [
    "roshan_sub = set(roshan['Sub promise'].unique())"
   ]
  },
  {
   "cell_type": "code",
   "execution_count": 42,
   "metadata": {},
   "outputs": [
    {
     "data": {
      "text/plain": [
       "{'AAP will ensure 100 percent lighting of streets across the city so that no miscreant or anti-social activity goes unnoticed.'}"
      ]
     },
     "execution_count": 42,
     "metadata": {},
     "output_type": "execute_result"
    }
   ],
   "source": [
    "old_sub - roshan_sub"
   ]
  },
  {
   "cell_type": "code",
   "execution_count": 44,
   "metadata": {},
   "outputs": [
    {
     "data": {
      "text/html": [
       "<div>\n",
       "<style scoped>\n",
       "    .dataframe tbody tr th:only-of-type {\n",
       "        vertical-align: middle;\n",
       "    }\n",
       "\n",
       "    .dataframe tbody tr th {\n",
       "        vertical-align: top;\n",
       "    }\n",
       "\n",
       "    .dataframe thead th {\n",
       "        text-align: right;\n",
       "    }\n",
       "</style>\n",
       "<table border=\"1\" class=\"dataframe\">\n",
       "  <thead>\n",
       "    <tr style=\"text-align: right;\">\n",
       "      <th></th>\n",
       "      <th>Department</th>\n",
       "      <th>Outcome</th>\n",
       "      <th>Promise</th>\n",
       "      <th>Sub promise</th>\n",
       "      <th>Unnamed: 0</th>\n",
       "      <th>created_at</th>\n",
       "      <th>description</th>\n",
       "      <th>event_occured</th>\n",
       "      <th>id</th>\n",
       "      <th>official</th>\n",
       "      <th>project_id</th>\n",
       "      <th>status</th>\n",
       "      <th>title</th>\n",
       "      <th>updated_at</th>\n",
       "      <th>url</th>\n",
       "    </tr>\n",
       "  </thead>\n",
       "  <tbody>\n",
       "    <tr>\n",
       "      <th>11</th>\n",
       "      <td>Power Department</td>\n",
       "      <td>Women's Safety</td>\n",
       "      <td>Adequate Street Lighting</td>\n",
       "      <td>AAP will ensure 100 percent lighting of street...</td>\n",
       "      <td>NaN</td>\n",
       "      <td>2017-01-23 15:22:19.498</td>\n",
       "      <td>&lt;ul&gt;\\n\\t&lt;li&gt;The Delhi government on Saturday s...</td>\n",
       "      <td>2017-01-23 15:21:00</td>\n",
       "      <td>202</td>\n",
       "      <td>1</td>\n",
       "      <td>28</td>\n",
       "      <td>In Progress</td>\n",
       "      <td>PWD to install 7438 LEDs in NE and East Delhi</td>\n",
       "      <td>2018-05-13 20:31:51.574</td>\n",
       "      <td>http://timesofindia.indiatimes.com/city/delhi/...</td>\n",
       "    </tr>\n",
       "    <tr>\n",
       "      <th>12</th>\n",
       "      <td>Power Department</td>\n",
       "      <td>Women's Safety</td>\n",
       "      <td>Adequate Street Lighting</td>\n",
       "      <td>AAP will ensure 100 percent lighting of street...</td>\n",
       "      <td>NaN</td>\n",
       "      <td>2017-01-23 15:20:51.588</td>\n",
       "      <td>&lt;ul&gt;\\n        &lt;li&gt;In order to ensure women&amp;rsq...</td>\n",
       "      <td>2017-01-23 15:20:00</td>\n",
       "      <td>201</td>\n",
       "      <td>1</td>\n",
       "      <td>28</td>\n",
       "      <td>In Progress</td>\n",
       "      <td>Several women safety measures implemented</td>\n",
       "      <td>2018-05-13 20:32:25.213</td>\n",
       "      <td>https://www.thehindu.com/news/cities/Delhi/420...</td>\n",
       "    </tr>\n",
       "  </tbody>\n",
       "</table>\n",
       "</div>"
      ],
      "text/plain": [
       "          Department         Outcome                   Promise  \\\n",
       "11  Power Department  Women's Safety  Adequate Street Lighting   \n",
       "12  Power Department  Women's Safety  Adequate Street Lighting   \n",
       "\n",
       "                                          Sub promise  Unnamed: 0  \\\n",
       "11  AAP will ensure 100 percent lighting of street...         NaN   \n",
       "12  AAP will ensure 100 percent lighting of street...         NaN   \n",
       "\n",
       "                created_at                                        description  \\\n",
       "11 2017-01-23 15:22:19.498  <ul>\\n\\t<li>The Delhi government on Saturday s...   \n",
       "12 2017-01-23 15:20:51.588  <ul>\\n        <li>In order to ensure women&rsq...   \n",
       "\n",
       "         event_occured   id  official  project_id       status  \\\n",
       "11 2017-01-23 15:21:00  202         1          28  In Progress   \n",
       "12 2017-01-23 15:20:00  201         1          28  In Progress   \n",
       "\n",
       "                                            title              updated_at  \\\n",
       "11  PWD to install 7438 LEDs in NE and East Delhi 2018-05-13 20:31:51.574   \n",
       "12      Several women safety measures implemented 2018-05-13 20:32:25.213   \n",
       "\n",
       "                                                  url  \n",
       "11  http://timesofindia.indiatimes.com/city/delhi/...  \n",
       "12  https://www.thehindu.com/news/cities/Delhi/420...  "
      ]
     },
     "execution_count": 44,
     "metadata": {},
     "output_type": "execute_result"
    }
   ],
   "source": [
    "all_old[all_old['Sub promise'].str.contains('AAP will ensure 100 percent lighting of streets across the city so that no miscreant or anti-social activity goes unnoticed.')]"
   ]
  },
  {
   "cell_type": "code",
   "execution_count": 46,
   "metadata": {},
   "outputs": [
    {
     "data": {
      "text/plain": [
       "'AAP will ensure a100 percent lighting of streets across the city so that no miscreant or anti-social activity goes unnoticed.'"
      ]
     },
     "execution_count": 46,
     "metadata": {},
     "output_type": "execute_result"
    }
   ],
   "source": [
    "roshan[roshan['Promise'].str.contains('Adequate Street Lighting')]['Sub promise'].values[-1]"
   ]
  },
  {
   "cell_type": "code",
   "execution_count": 47,
   "metadata": {},
   "outputs": [],
   "source": [
    "subpromises = {k:k for k in old_sub}"
   ]
  },
  {
   "cell_type": "code",
   "execution_count": 48,
   "metadata": {},
   "outputs": [],
   "source": [
    "subpromises.update({\n",
    "    'AAP will ensure 100 percent lighting of streets across the city so that no miscreant or anti-social activity goes unnoticed.':'AAP will ensure a100 percent lighting of streets across the city so that no miscreant or anti-social activity goes unnoticed.'\n",
    "})"
   ]
  },
  {
   "cell_type": "code",
   "execution_count": 51,
   "metadata": {},
   "outputs": [],
   "source": [
    "all_old['Sub promise'] = all_old['Sub promise'].map(subpromises)"
   ]
  },
  {
   "cell_type": "code",
   "execution_count": 52,
   "metadata": {},
   "outputs": [],
   "source": [
    "all_old.to_excel('../assets/data/old_updates.xlsx', index=None)"
   ]
  },
  {
   "cell_type": "code",
   "execution_count": 1,
   "metadata": {},
   "outputs": [],
   "source": [
    "import pandas as pd\n"
   ]
  },
  {
   "cell_type": "code",
   "execution_count": 2,
   "metadata": {},
   "outputs": [],
   "source": [
    "df = pd.read_excel('../assets/data/updates.xlsx')"
   ]
  },
  {
   "cell_type": "code",
   "execution_count": 3,
   "metadata": {},
   "outputs": [
    {
     "data": {
      "text/html": [
       "<div>\n",
       "<style scoped>\n",
       "    .dataframe tbody tr th:only-of-type {\n",
       "        vertical-align: middle;\n",
       "    }\n",
       "\n",
       "    .dataframe tbody tr th {\n",
       "        vertical-align: top;\n",
       "    }\n",
       "\n",
       "    .dataframe thead th {\n",
       "        text-align: right;\n",
       "    }\n",
       "</style>\n",
       "<table border=\"1\" class=\"dataframe\">\n",
       "  <thead>\n",
       "    <tr style=\"text-align: right;\">\n",
       "      <th></th>\n",
       "      <th>Timestamp</th>\n",
       "      <th>Promise_x</th>\n",
       "      <th>SubPromise</th>\n",
       "      <th>Date of Update</th>\n",
       "      <th>Status</th>\n",
       "      <th>Description</th>\n",
       "      <th>Title</th>\n",
       "      <th>Proof Documents/Images</th>\n",
       "      <th>Proof URL</th>\n",
       "      <th>Email Address</th>\n",
       "      <th>Approved</th>\n",
       "      <th>Sr No</th>\n",
       "      <th>Promise_y</th>\n",
       "      <th>Sub promise</th>\n",
       "      <th>Unnamed: 3</th>\n",
       "      <th>Department</th>\n",
       "      <th>Outcome</th>\n",
       "      <th>__</th>\n",
       "    </tr>\n",
       "  </thead>\n",
       "  <tbody>\n",
       "    <tr>\n",
       "      <th>0</th>\n",
       "      <td>2020-02-03 18:38:44.301</td>\n",
       "      <td>delhi to be made a solar city</td>\n",
       "      <td>we are committed to ensuring that 20 percent o...</td>\n",
       "      <td>2018-08-05</td>\n",
       "      <td>In Progress</td>\n",
       "      <td>BRPL aims to bring the benefit of Rooftop Sola...</td>\n",
       "      <td>Solarize Dwarka launched in BSES Rajdhani regi...</td>\n",
       "      <td>https://drive.google.com/open?id=1mhcUrdxLr3LA...</td>\n",
       "      <td>http://solarbses.com/</td>\n",
       "      <td>NaN</td>\n",
       "      <td>Yes</td>\n",
       "      <td>8</td>\n",
       "      <td>delhi to be made a solar city</td>\n",
       "      <td>we are committed to ensuring that 20 percent o...</td>\n",
       "      <td>Delhi to be made a Solar CIty__We are committe...</td>\n",
       "      <td>Power Department</td>\n",
       "      <td>Energy</td>\n",
       "      <td>NaN</td>\n",
       "    </tr>\n",
       "    <tr>\n",
       "      <th>1</th>\n",
       "      <td>2020-02-07 05:35:01.320</td>\n",
       "      <td>delhi to be made a solar city</td>\n",
       "      <td>we are committed to ensuring that 20 percent o...</td>\n",
       "      <td>2020-02-07</td>\n",
       "      <td>In Progress</td>\n",
       "      <td>As of Nov 2019, Delhi had only 146 MW of rooft...</td>\n",
       "      <td>Ambitious target set under the Solar Policy, r...</td>\n",
       "      <td>NaN</td>\n",
       "      <td>https://www.pv-magazine-india.com/2019/11/29/m...</td>\n",
       "      <td>utkarshpatel1992@gmail.com</td>\n",
       "      <td>NaN</td>\n",
       "      <td>8</td>\n",
       "      <td>delhi to be made a solar city</td>\n",
       "      <td>we are committed to ensuring that 20 percent o...</td>\n",
       "      <td>Delhi to be made a Solar CIty__We are committe...</td>\n",
       "      <td>Power Department</td>\n",
       "      <td>Energy</td>\n",
       "      <td>NaN</td>\n",
       "    </tr>\n",
       "    <tr>\n",
       "      <th>2</th>\n",
       "      <td>2020-02-07 22:27:42.408</td>\n",
       "      <td>delhi to be made a solar city</td>\n",
       "      <td>we are committed to ensuring that 20 percent o...</td>\n",
       "      <td>2018-01-08</td>\n",
       "      <td>Started</td>\n",
       "      <td>BSES, in partnership with USAID-PACE-D and Ind...</td>\n",
       "      <td>Solar City Initiative Launched</td>\n",
       "      <td>NaN</td>\n",
       "      <td>https://www.thehindu.com/news/cities/Delhi/sol...</td>\n",
       "      <td>nettedstars@gmail.com</td>\n",
       "      <td>NaN</td>\n",
       "      <td>8</td>\n",
       "      <td>delhi to be made a solar city</td>\n",
       "      <td>we are committed to ensuring that 20 percent o...</td>\n",
       "      <td>Delhi to be made a Solar CIty__We are committe...</td>\n",
       "      <td>Power Department</td>\n",
       "      <td>Energy</td>\n",
       "      <td>NaN</td>\n",
       "    </tr>\n",
       "    <tr>\n",
       "      <th>3</th>\n",
       "      <td>2020-02-08 03:02:37.275</td>\n",
       "      <td>delhi to be made a solar city</td>\n",
       "      <td>we are committed to ensuring that 20 percent o...</td>\n",
       "      <td>2020-02-07</td>\n",
       "      <td>In Progress</td>\n",
       "      <td>Comprehensive solar policy targets 2 GW solar ...</td>\n",
       "      <td>New Solar Policy in Delhi promotes renewable e...</td>\n",
       "      <td>NaN</td>\n",
       "      <td>http://ipgcl-ppcl.gov.in/documents/renewable/2...</td>\n",
       "      <td>raavi.aggarwal95@gmail.com</td>\n",
       "      <td>NaN</td>\n",
       "      <td>8</td>\n",
       "      <td>delhi to be made a solar city</td>\n",
       "      <td>we are committed to ensuring that 20 percent o...</td>\n",
       "      <td>Delhi to be made a Solar CIty__We are committe...</td>\n",
       "      <td>Power Department</td>\n",
       "      <td>Energy</td>\n",
       "      <td>NaN</td>\n",
       "    </tr>\n",
       "    <tr>\n",
       "      <th>4</th>\n",
       "      <td>2020-02-03 18:38:44.301</td>\n",
       "      <td>Delhi To be Made Solar City</td>\n",
       "      <td>we are committed to ensuring that 20 percent o...</td>\n",
       "      <td>2018-08-05</td>\n",
       "      <td>In Progress</td>\n",
       "      <td>BRPL aims to bring the benefit of Rooftop Sola...</td>\n",
       "      <td>Solarize Dwarka launched in BSES Rajdhani regi...</td>\n",
       "      <td>https://drive.google.com/open?id=1mhcUrdxLr3LA...</td>\n",
       "      <td>http://solarbses.com/</td>\n",
       "      <td>NaN</td>\n",
       "      <td>Yes</td>\n",
       "      <td>8</td>\n",
       "      <td>delhi to be made a solar city</td>\n",
       "      <td>we are committed to ensuring that 20 percent o...</td>\n",
       "      <td>Delhi to be made a Solar CIty__We are committe...</td>\n",
       "      <td>Power Department</td>\n",
       "      <td>Energy</td>\n",
       "      <td>NaN</td>\n",
       "    </tr>\n",
       "  </tbody>\n",
       "</table>\n",
       "</div>"
      ],
      "text/plain": [
       "                Timestamp                      Promise_x  \\\n",
       "0 2020-02-03 18:38:44.301  delhi to be made a solar city   \n",
       "1 2020-02-07 05:35:01.320  delhi to be made a solar city   \n",
       "2 2020-02-07 22:27:42.408  delhi to be made a solar city   \n",
       "3 2020-02-08 03:02:37.275  delhi to be made a solar city   \n",
       "4 2020-02-03 18:38:44.301    Delhi To be Made Solar City   \n",
       "\n",
       "                                          SubPromise Date of Update  \\\n",
       "0  we are committed to ensuring that 20 percent o...     2018-08-05   \n",
       "1  we are committed to ensuring that 20 percent o...     2020-02-07   \n",
       "2  we are committed to ensuring that 20 percent o...     2018-01-08   \n",
       "3  we are committed to ensuring that 20 percent o...     2020-02-07   \n",
       "4  we are committed to ensuring that 20 percent o...     2018-08-05   \n",
       "\n",
       "        Status                                        Description  \\\n",
       "0  In Progress  BRPL aims to bring the benefit of Rooftop Sola...   \n",
       "1  In Progress  As of Nov 2019, Delhi had only 146 MW of rooft...   \n",
       "2      Started  BSES, in partnership with USAID-PACE-D and Ind...   \n",
       "3  In Progress  Comprehensive solar policy targets 2 GW solar ...   \n",
       "4  In Progress  BRPL aims to bring the benefit of Rooftop Sola...   \n",
       "\n",
       "                                               Title  \\\n",
       "0  Solarize Dwarka launched in BSES Rajdhani regi...   \n",
       "1  Ambitious target set under the Solar Policy, r...   \n",
       "2                     Solar City Initiative Launched   \n",
       "3  New Solar Policy in Delhi promotes renewable e...   \n",
       "4  Solarize Dwarka launched in BSES Rajdhani regi...   \n",
       "\n",
       "                              Proof Documents/Images  \\\n",
       "0  https://drive.google.com/open?id=1mhcUrdxLr3LA...   \n",
       "1                                                NaN   \n",
       "2                                                NaN   \n",
       "3                                                NaN   \n",
       "4  https://drive.google.com/open?id=1mhcUrdxLr3LA...   \n",
       "\n",
       "                                           Proof URL  \\\n",
       "0                              http://solarbses.com/   \n",
       "1  https://www.pv-magazine-india.com/2019/11/29/m...   \n",
       "2  https://www.thehindu.com/news/cities/Delhi/sol...   \n",
       "3  http://ipgcl-ppcl.gov.in/documents/renewable/2...   \n",
       "4                              http://solarbses.com/   \n",
       "\n",
       "                Email Address Approved  Sr No                      Promise_y  \\\n",
       "0                         NaN      Yes      8  delhi to be made a solar city   \n",
       "1  utkarshpatel1992@gmail.com      NaN      8  delhi to be made a solar city   \n",
       "2       nettedstars@gmail.com      NaN      8  delhi to be made a solar city   \n",
       "3  raavi.aggarwal95@gmail.com      NaN      8  delhi to be made a solar city   \n",
       "4                         NaN      Yes      8  delhi to be made a solar city   \n",
       "\n",
       "                                         Sub promise  \\\n",
       "0  we are committed to ensuring that 20 percent o...   \n",
       "1  we are committed to ensuring that 20 percent o...   \n",
       "2  we are committed to ensuring that 20 percent o...   \n",
       "3  we are committed to ensuring that 20 percent o...   \n",
       "4  we are committed to ensuring that 20 percent o...   \n",
       "\n",
       "                                          Unnamed: 3        Department  \\\n",
       "0  Delhi to be made a Solar CIty__We are committe...  Power Department   \n",
       "1  Delhi to be made a Solar CIty__We are committe...  Power Department   \n",
       "2  Delhi to be made a Solar CIty__We are committe...  Power Department   \n",
       "3  Delhi to be made a Solar CIty__We are committe...  Power Department   \n",
       "4  Delhi to be made a Solar CIty__We are committe...  Power Department   \n",
       "\n",
       "  Outcome  __  \n",
       "0  Energy NaN  \n",
       "1  Energy NaN  \n",
       "2  Energy NaN  \n",
       "3  Energy NaN  \n",
       "4  Energy NaN  "
      ]
     },
     "execution_count": 3,
     "metadata": {},
     "output_type": "execute_result"
    }
   ],
   "source": [
    "df.head()"
   ]
  },
  {
   "cell_type": "code",
   "execution_count": 4,
   "metadata": {},
   "outputs": [
    {
     "data": {
      "text/plain": [
       "array(['In Progress', 'Started', 'Done', 'Not Started', nan], dtype=object)"
      ]
     },
     "execution_count": 4,
     "metadata": {},
     "output_type": "execute_result"
    }
   ],
   "source": [
    "df.Status.unique()"
   ]
  },
  {
   "cell_type": "code",
   "execution_count": 7,
   "metadata": {},
   "outputs": [
    {
     "data": {
      "text/plain": [
       "0      Partially Fulfilled\n",
       "1      Partially Fulfilled\n",
       "2      Partially Fulfilled\n",
       "3      Partially Fulfilled\n",
       "4      Partially Fulfilled\n",
       "              ...         \n",
       "457    Partially Fulfilled\n",
       "458              Fulfilled\n",
       "459    Partially Fulfilled\n",
       "460            Unfulfilled\n",
       "461              Fulfilled\n",
       "Name: Status, Length: 462, dtype: object"
      ]
     },
     "execution_count": 7,
     "metadata": {},
     "output_type": "execute_result"
    }
   ],
   "source": [
    "Status_fixes = {\n",
    "    'In Progress': 'Partially Fulfilled',\n",
    "    'Done': 'Fulfilled',\n",
    "    'Not Started': 'Unfulfilled',\n",
    "    'Started': 'Partially Fulfilled'\n",
    "}\n",
    "df['Status'df['Status'].map(Status_fixes)"
   ]
  },
  {
   "cell_type": "code",
   "execution_count": null,
   "metadata": {},
   "outputs": [],
   "source": []
  }
 ],
 "metadata": {
  "kernelspec": {
   "display_name": "Python 3",
   "language": "python",
   "name": "python3"
  },
  "language_info": {
   "codemirror_mode": {
    "name": "ipython",
    "version": 3
   },
   "file_extension": ".py",
   "mimetype": "text/x-python",
   "name": "python",
   "nbconvert_exporter": "python",
   "pygments_lexer": "ipython3",
   "version": "3.7.5"
  }
 },
 "nbformat": 4,
 "nbformat_minor": 2
}
